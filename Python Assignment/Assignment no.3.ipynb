{
 "cells": [
  {
   "cell_type": "code",
   "execution_count": 70,
   "id": "312220ae",
   "metadata": {},
   "outputs": [
    {
     "name": "stdout",
     "output_type": "stream",
     "text": [
      "Twinkle, twinkle, little star,\n",
      "\tHow I wonder what you are!\n",
      "\t\tUp above the world so high,\n",
      "\t\tLike a diamond in the sky.\n",
      "Twinkle, twinkle, little star,\n",
      "\tHow I wonder what you are\n"
     ]
    }
   ],
   "source": [
    "print(\"Twinkle, twinkle, little star,\\n\\tHow I wonder what you are!\\n\\t\\tUp above the world so high,\\n\\t\\tLike a diamond in the sky.\\nTwinkle, twinkle, little star,\\n\\tHow I wonder what you are\")"
   ]
  },
  {
   "cell_type": "code",
   "execution_count": 9,
   "id": "dca5eda9",
   "metadata": {},
   "outputs": [
    {
     "name": "stdout",
     "output_type": "stream",
     "text": [
      "3.8.8 (default, Apr 13 2021, 15:08:03) [MSC v.1916 64 bit (AMD64)]\n"
     ]
    }
   ],
   "source": [
    "import sys\n",
    "print(sys.version)"
   ]
  },
  {
   "cell_type": "code",
   "execution_count": 23,
   "id": "daa534bd",
   "metadata": {},
   "outputs": [
    {
     "name": "stdout",
     "output_type": "stream",
     "text": [
      "Today's date: 2021-10-23-22:25:08\n"
     ]
    }
   ],
   "source": [
    "from datetime import datetime\n",
    "\n",
    "#today = datetime.today\n",
    "print(\"Today's date:\", datetime.today().strftime('%Y-%m-%d-%H:%M:%S'))"
   ]
  },
  {
   "cell_type": "code",
   "execution_count": 29,
   "id": "865698c0",
   "metadata": {},
   "outputs": [
    {
     "name": "stdout",
     "output_type": "stream",
     "text": [
      "please enter radiys of circle to calculate input5\n",
      "78.5\n"
     ]
    }
   ],
   "source": [
    "radius = int(input(\"please enter radiys of circle to calculate input\"))\n",
    "area = 3.14 * int(radius * radius)\n",
    "print(area)"
   ]
  },
  {
   "cell_type": "code",
   "execution_count": 34,
   "id": "ffa008b9",
   "metadata": {},
   "outputs": [
    {
     "name": "stdout",
     "output_type": "stream",
     "text": [
      "Please enter your first nameali\n",
      "Please enter your last namezain\n",
      "zain ali\n"
     ]
    }
   ],
   "source": [
    "firstName = input(\"Please enter your first name\")\n",
    "lastName=input(\"Please enter your last name\")\n",
    "print(lastName + \" \" + firstName)\n"
   ]
  },
  {
   "cell_type": "code",
   "execution_count": 36,
   "id": "74362cfb",
   "metadata": {},
   "outputs": [
    {
     "name": "stdout",
     "output_type": "stream",
     "text": [
      "Please enter first number1\n",
      "Please enter second number1\n",
      "2\n"
     ]
    }
   ],
   "source": [
    "num1 = int(input(\"Please enter first number\"))\n",
    "num2 = int(input(\"Please enter second number\"))\n",
    "print(num1 + num2)"
   ]
  },
  {
   "cell_type": "code",
   "execution_count": 38,
   "id": "f2191b26",
   "metadata": {},
   "outputs": [
    {
     "name": "stdout",
     "output_type": "stream",
     "text": [
      "please enter english marks1\n",
      "please enter math marks2\n",
      "please enter urdu marks3\n",
      "please enter sst marks4\n",
      "please enter phy marks5\n",
      "English marks:  1\n",
      "Math marks:  2\n",
      "Urdu marks:  3\n",
      "SST marks:  4\n",
      "Physics marks:  5\n",
      "Total marks:  15\n"
     ]
    }
   ],
   "source": [
    "english =int(input(\"please enter english marks\"))\n",
    "math =int(input(\"please enter math marks\"))\n",
    "urdu =int(input(\"please enter urdu marks\"))\n",
    "sst =int(input(\"please enter sst marks\"))\n",
    "phy =int(input(\"please enter phy marks\"))\n",
    "total= english + math + urdu + sst + phy\n",
    "print(\"English marks: \", english)\n",
    "print(\"Math marks: \", math)\n",
    "print(\"Urdu marks: \", urdu)\n",
    "print(\"SST marks: \", sst)\n",
    "print(\"Physics marks: \", phy)\n",
    "print(\"Total marks: \", total)\n"
   ]
  },
  {
   "cell_type": "code",
   "execution_count": 46,
   "id": "4da618c3",
   "metadata": {},
   "outputs": [
    {
     "name": "stdout",
     "output_type": "stream",
     "text": [
      "Enter a number: 5\n",
      "5 is Odd\n"
     ]
    }
   ],
   "source": [
    "num = int(input(\"Enter a number: \"))\n",
    "if (num % 2) == 0:\n",
    "   print(\"{0} is Even\".format(num))\n",
    "else:\n",
    "   print(\"{0} is Odd\".format(num))"
   ]
  },
  {
   "cell_type": "code",
   "execution_count": 50,
   "id": "38c067ed",
   "metadata": {},
   "outputs": [
    {
     "name": "stdout",
     "output_type": "stream",
     "text": [
      "\n",
      "Enter the numbers with space to save in list : 1 2 3 4 5 6 7 8 9 10\n",
      "The length of list is:  10\n"
     ]
    }
   ],
   "source": [
    "a = list(map(int,input(\"\\nEnter the numbers with space to save in list : \").strip().split()))\n",
    "print(\"The length of list is: \", len(a))"
   ]
  },
  {
   "cell_type": "code",
   "execution_count": 54,
   "id": "5ce4287a",
   "metadata": {},
   "outputs": [
    {
     "name": "stdout",
     "output_type": "stream",
     "text": [
      "The sum is 48\n"
     ]
    }
   ],
   "source": [
    "# Program to find the sum of all numbers stored in a list\n",
    "\n",
    "# List of numbers\n",
    "numbers = [6, 5, 3, 8, 4, 2, 5, 4, 11]\n",
    "\n",
    "# variable to store the sum\n",
    "sum = 0\n",
    "\n",
    "# iterate over the list\n",
    "for val in numbers:\n",
    "    sum = sum+val\n",
    "\n",
    "print(\"The sum is\", sum)"
   ]
  },
  {
   "cell_type": "code",
   "execution_count": 55,
   "id": "5a291198",
   "metadata": {},
   "outputs": [
    {
     "name": "stdout",
     "output_type": "stream",
     "text": [
      "largest number is 532\n"
     ]
    }
   ],
   "source": [
    "list = [2,34,532,5,454]\n",
    "print (\"largest number is\" , max(list))"
   ]
  },
  {
   "cell_type": "code",
   "execution_count": 66,
   "id": "3985237f",
   "metadata": {},
   "outputs": [
    {
     "name": "stdout",
     "output_type": "stream",
     "text": [
      "1\n",
      "1\n",
      "2\n",
      "3\n",
      "[1, 1, 2, 3]\n"
     ]
    }
   ],
   "source": [
    "a = [1, 1, 2, 3, 5, 8, 13, 21, 34, 55, 89]\n",
    "for i in a:\n",
    "    if i < 5:\n",
    "        print(i)\n",
    "x=[i for i in a if i <5] \n",
    "print(x) "
   ]
  },
  {
   "cell_type": "code",
   "execution_count": null,
   "id": "52808053",
   "metadata": {},
   "outputs": [],
   "source": []
  }
 ],
 "metadata": {
  "kernelspec": {
   "display_name": "Python 3",
   "language": "python",
   "name": "python3"
  },
  "language_info": {
   "codemirror_mode": {
    "name": "ipython",
    "version": 3
   },
   "file_extension": ".py",
   "mimetype": "text/x-python",
   "name": "python",
   "nbconvert_exporter": "python",
   "pygments_lexer": "ipython3",
   "version": "3.8.8"
  }
 },
 "nbformat": 4,
 "nbformat_minor": 5
}
